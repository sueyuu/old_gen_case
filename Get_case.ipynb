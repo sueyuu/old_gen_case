{
 "cells": [
  {
   "cell_type": "code",
   "execution_count": 1,
   "metadata": {},
   "outputs": [],
   "source": [
    "import sqlalchemy as sa\n",
    "from sqlalchemy.ext.declarative import declarative_base\n",
    "from sqlalchemy.orm import sessionmaker\n",
    "from datetime import datetime, timedelta\n",
    "import pandas as pd\n",
    "from os.path import join\n",
    "from os import listdir"
   ]
  },
  {
   "cell_type": "code",
   "execution_count": 5,
   "metadata": {},
   "outputs": [],
   "source": [
    "casepath = join('case', listdir('case')[0])\n",
    "GetCase(casepath)"
   ]
  },
  {
   "cell_type": "code",
   "execution_count": 4,
   "metadata": {},
   "outputs": [],
   "source": [
    "Base = declarative_base()\n",
    "\n",
    "one_year=timedelta(days=455)\n",
    "\n",
    "# CREATE THE TABLE MODEL TO USE IT FOR QUERYING\n",
    "class Cases(Base):\n",
    "  \n",
    "  __tablename__ = 'CaseList'\n",
    "  \n",
    "  CL_PatientID = sa.Column(sa.String, primary_key=True)\n",
    "  CL_CASE_DATE = sa.Column(sa.String)\n",
    "  CL_CASE_TYPE = sa.Column(sa.String)\n",
    "  CL_Timestamp = sa.Column(sa.TIMESTAMP)  \n",
    "\n",
    "def GetCase(weekfile):\n",
    "    \n",
    "#Create engine\n",
    "  engine = sa.create_engine('{dialect}+{driver}://{user}:{password}@{host}:{port}/{dbname}'\n",
    "                            .format(dialect='mysql', driver='mysqlconnector',\n",
    "                            user='root', password='sql@r00t', host='192.168.0.16', port='3306', dbname='dm1'))\n",
    "\n",
    "#CREATE A SESSION OBJECT TO INITIATE QUERY IN DATABASE\n",
    "  Session = sessionmaker(bind = engine)\n",
    "  session = Session()\n",
    "\n",
    "  df_case=pd.read_csv(weekfile, usecols=['身分證號','最後看診日期'], parse_dates=['最後看診日期'], infer_datetime_format=True)\n",
    "\n",
    "  grouped=df_case['身分證號'].groupby(df_case['最後看診日期'])\n",
    "\n",
    "#open new csv(single one for all) and write header\n",
    "  df = pd.DataFrame(columns=['id','time','case', 'visit', 'yr-ago'])\n",
    "\n",
    "###以後可能直接生成dict{id:dataframe, ...}，先生成csv檔方便debug\n",
    "  for exportdate, groupdf in grouped:    \n",
    "    one_year_ago=exportdate-one_year\n",
    "    ptlist = groupdf.to_list()\n",
    "\n",
    "#SQLAlCHEMY ORM QUERY TO FETCH ALL RECORDS. reindex with df columns(預設missing會是na統一值) then fillna with dict\n",
    "    df = pd.concat([df, \n",
    "         pd.read_sql(\n",
    "    sql = session.query(Cases.CL_PatientID, Cases.CL_CASE_DATE, \n",
    "          Cases.CL_CASE_TYPE).filter(\n",
    "          Cases.CL_PatientID.in_(ptlist),\n",
    "          Cases.CL_Timestamp.between(one_year_ago.strftime('%Y-%m-%d'), \n",
    "          exportdate.strftime('%Y-%m-%d'))).order_by(Cases.CL_PatientID, \n",
    "          Cases.CL_CASE_DATE).statement,\n",
    "          con = engine).rename(columns={'CL_PatientID':'id','CL_CASE_DATE':'time','CL_CASE_TYPE':'case'})\n",
    "         ]).reindex(columns = df.columns).fillna(value={'visit': exportdate, 'yr-ago': one_year_ago})\n",
    "    df.to_csv('case_df.csv', index=False)\n",
    "# Close connection"
   ]
  },
  {
   "cell_type": "code",
   "execution_count": null,
   "metadata": {},
   "outputs": [],
   "source": []
  }
 ],
 "metadata": {
  "kernelspec": {
   "display_name": "Python 3",
   "language": "python",
   "name": "python3"
  },
  "language_info": {
   "codemirror_mode": {
    "name": "ipython",
    "version": 3
   },
   "file_extension": ".py",
   "mimetype": "text/x-python",
   "name": "python",
   "nbconvert_exporter": "python",
   "pygments_lexer": "ipython3",
   "version": "3.8.5"
  }
 },
 "nbformat": 4,
 "nbformat_minor": 4
}
